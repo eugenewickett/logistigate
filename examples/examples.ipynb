{
 "cells": [
  {
   "cell_type": "markdown",
   "metadata": {},
   "source": [
    "<div>\n",
    "<center><img src=\"img/logistigate_logo.png\" alt=\"Drawing\" width=\"700\"></center>\n",
    "</div>"
   ]
  },
  {
   "cell_type": "markdown",
   "metadata": {},
   "source": [
    "## Overview of `logistigate`\n",
    "Generally speaking, the `logistigate` methods infer aberration likelihoods at entities within a two-echelon supply chain, only using testing data from sample points taken from entities of the lower echelon. It is assumed that products originate within the system at one entity of the upper echelon, and are procured by one entity of the lower echelon. The likelihood of a lower-echelon entity obtaining product from each of the upper-echelon entities is stored in what is deemed the \"transition matrix\" for that system. Testing of products at the lower echelon yields aberrational (recorded as \"1\") or acceptable (\"0\") results. We then distinguish possible information-availability settings into two categories, *Tracked* and *Untracked*:\n",
    " - In the *Tracked* case, both the upper-echelon and lower-echelon entities traversed by the tested product are known upon testing.\n",
    " - In the *Untracked* case, only the lower-echelon entity is entirely known, in addition to the system's transition matrix.\n",
    "\n",
    "It is further assumed that products are aberrational at their origin in the upper echelon with some entity-specific fixed probability, and that products acceptable at the upper echelon become aberrational at the destination in the lower echelon with some other entity-specific fixed probabiltiy. It is these fixed probabilities that the `logistigate` methods attempt to infer.\n",
    "\n",
    "More specifically, the `logistigate` methods were developed with the intent of inferring sources of substandard or falsified products within a pharmaceutical supply chain. Entities of the upper echelon are referred to as *importers*, and entities of the lower echelon are referred to as *outlets*. This terminology is used interchangeably throughout the `logistigate` package."
   ]
  },
  {
   "cell_type": "markdown",
   "metadata": {},
   "source": [
    "## Installation\n",
    "Before using `logistigate`, you need to ensure it is installed in your Python library. To do this, open a Command console, and run the following line, using `pip`:\n",
    "\n",
    "`pip install git+https://github.com/eugenewickett/logistigate.git#egg=logistigate`\n",
    "\n",
    "([See here](https://pip.pypa.io/en/stable/installing/) for help installing `pip` if you do not already have it.)"
   ]
  },
  {
   "cell_type": "markdown",
   "metadata": {},
   "source": [
    "## Example\n",
    "In this example, we will illustrate `logistigate`'s capabilities through a toy problem. In this problem, we have a supply system that consists of 3 importers (upper-echelon entities) and 12 outlets (lower-echelon entities). Outlets procure products from importers according to a (possibly known or unknown) *transition matrix*, and distribute these products to consumers. The transition matrix for this example is shown here, in percentages:"
   ]
  },
  {
   "cell_type": "markdown",
   "metadata": {},
   "source": [
    "| . | Importer 1 | Importer 2 | Importer 3 |\n",
    "| --- | --- | --- | --- |\n",
    "|Outlet 1| 69 | 22 | 9 |\n",
    "|Outlet 2| 13 | 32 | 55 |\n",
    "|Outlet 3| 39 | 51 | 10 |\n",
    "|Outlet 4| 1 | 92 | 7 |\n",
    "|Outlet 5| 28 | 22 | 50 |\n",
    "|Outlet 6| 84 | 4 | 12 |\n",
    "|Outlet 7| 11 | 60 | 29 |\n",
    "|Outlet 8| 43 | 25 | 32 |\n",
    "|Outlet 9| 11 | 65 | 24 |\n",
    "|Outlet 10| 60 | 05 | 35 |\n",
    "|Outlet 11| 5 | 15 | 80 |\n",
    "|Outlet 12| 40 | 15 | 45 |"
   ]
  },
  {
   "cell_type": "markdown",
   "metadata": {},
   "source": [
    "For instance, a product procured from Outlet 6 has an $84\\%$ chance of originating from Importer 1, a $4\\%$ chance of originating from Importer 2, and a $12\\%$ chance of originating from Importer 3.\n",
    "\n",
    "In pharmaceutical post-market surveillance, regulators only test products at the consumer-facing end of the supply chain, i.e., from the outlets. We refer to the detection of a poor-quality product as an *aberration*. In this situation where testing only occurs at the outlet level, it is not apparent upon the detection of an aberration whether the ultimate source of the aberration was due to the importer or the outlet. **The crux of `logistigate` is to attempt to infer the aberration levels at entities at both levels of the supply chain, only using testing information from the lower echelon and some degree of supply chain information.**\n",
    "\n",
    "For our example, let us assume that importers and outlets generate aberrational products as listed in the following tables (again, in percentages):"
   ]
  },
  {
   "cell_type": "markdown",
   "metadata": {},
   "source": [
    "| Importer 1 | Importer 2 | Importer 3 |\n",
    "| --- | --- | --- |\n",
    "| 40 | 30 | 20 |\n",
    "\n"
   ]
  },
  {
   "cell_type": "markdown",
   "metadata": {},
   "source": [
    "| Outlet 1 | Outlet 2 | Outlet 3 | Outlet 4 | Outlet 5 | Outlet 6 | Outlet 7 | Outlet 8 | Outlet 9 | Outlet 10 | Outlet 11 | Outlet 12 |\n",
    "| --- | --- | --- | --- | --- | --- | --- | --- | --- | --- | --- | --- |\n",
    "| 71 | 3 | 10 | 38 | 28 | 62 | 50 | 9 | 20 | 13 | 80 | 6 |\n",
    "\n"
   ]
  },
  {
   "cell_type": "markdown",
   "metadata": {},
   "source": [
    "For example, a product procured from Outlet 3 that originated from Importer 2 has a $0.3 + (1-0.3)*0.1=0.37$ probability of being aberrational. The goal of `logistigate` is to use binary (pass/fail) testing results from the outlets to estimate these different aberration rates at both the importer and outlet levels.\n",
    "\n",
    "In the event that the importer is known upon the procurement of product to test, we refer to this setting as the *Tracked* framework. The Tracked setting implies that the importer-outlet path is known for all tested products. In the event that the importer is not precisely known, and only the transition matrix is known, we refer to this setting as the *Untracked* framework. Note that knowledge of the transition matrix is not necessary within the Tracked setting, but is required in the Untracked setting.\n",
    "\n"
   ]
  },
  {
   "cell_type": "markdown",
   "metadata": {},
   "source": [
    "### Tracked framework\n",
    "Let us first consider how we might use `logistigate` in the Tracked setting....CONTINUE HERE"
   ]
  },
  {
   "cell_type": "code",
   "execution_count": 34,
   "metadata": {},
   "outputs": [],
   "source": [
    "import logistigate as lg\n"
   ]
  },
  {
   "cell_type": "code",
   "execution_count": 35,
   "metadata": {},
   "outputs": [
    {
     "ename": "AttributeError",
     "evalue": "module 'logistigate' has no attribute 'Example1'",
     "output_type": "error",
     "traceback": [
      "\u001b[1;31m---------------------------------------------------------------------------\u001b[0m",
      "\u001b[1;31mAttributeError\u001b[0m                            Traceback (most recent call last)",
      "\u001b[1;32m<ipython-input-35-80a94598b287>\u001b[0m in \u001b[0;36m<module>\u001b[1;34m()\u001b[0m\n\u001b[1;32m----> 1\u001b[1;33m \u001b[0mlg\u001b[0m\u001b[1;33m.\u001b[0m\u001b[0mExample1\u001b[0m\u001b[1;33m(\u001b[0m\u001b[1;33m)\u001b[0m\u001b[1;33m\u001b[0m\u001b[0m\n\u001b[0m",
      "\u001b[1;31mAttributeError\u001b[0m: module 'logistigate' has no attribute 'Example1'"
     ]
    }
   ],
   "source": []
  },
  {
   "cell_type": "code",
   "execution_count": null,
   "metadata": {},
   "outputs": [],
   "source": []
  }
 ],
 "metadata": {
  "kernelspec": {
   "display_name": "Python 3",
   "language": "python",
   "name": "python3"
  },
  "language_info": {
   "codemirror_mode": {
    "name": "ipython",
    "version": 3
   },
   "file_extension": ".py",
   "mimetype": "text/x-python",
   "name": "python",
   "nbconvert_exporter": "python",
   "pygments_lexer": "ipython3",
   "version": "3.7.0"
  }
 },
 "nbformat": 4,
 "nbformat_minor": 2
}
